{
 "cells": [
  {
   "cell_type": "markdown",
   "id": "42f5e726",
   "metadata": {},
   "source": [
    "# Estruturas de dados fundamentais em Python: \n",
    "listas, tuplas, conjuntos (sets) e dicionários. \n"
   ]
  },
  {
   "cell_type": "markdown",
   "id": "42f75c5f",
   "metadata": {},
   "source": [
    "# Listas\n",
    "\n",
    "Definição: Coleções ordenadas e mutáveis que permitem elementos duplicados.\n",
    "\n",
    "Cada valor é chamado de elemento.\n",
    "\n",
    "Os elementos de uma lista podem ser ordenados, duplicados e alterados.\n",
    "\n",
    "Inicia no index 0 \n",
    "\n",
    "Sintaxe: []\n"
   ]
  },
  {
   "cell_type": "code",
   "execution_count": null,
   "id": "137041c6",
   "metadata": {},
   "outputs": [
    {
     "name": "stdout",
     "output_type": "stream",
     "text": [
      "maçã\n",
      "laranja\n",
      "3\n",
      "['Ana', 'Carlos', 'Joana']\n",
      "['Joana', 'Carlos', 'Ana']\n",
      "maçã laranja\n"
     ]
    }
   ],
   "source": [
    "#Indexação len() ordenação \n",
    "\n",
    "\n",
    "frutas = [\"maçã\", \"banana\", \"laranja\"]   \n",
    "print(frutas[0])      # maçã   \n",
    "print(frutas[-1])     # laranja   \n",
    "print(len(frutas))    # 3   \n",
    "\n",
    "nomes = [\"Joana\", \"Ana\", \"Carlos\"]   \n",
    "nomes.sort()  # ordem alfabética\n",
    "print(nomes)  # ['Ana', 'Carlos', 'Joana']   \n",
    "nomes.sort(reverse=True)   \n",
    "print(nomes)  # ['Joana', 'Carlos', 'Ana']   \n",
    "\n",
    "aa,_,cc = frutas  # _ ignore   \n",
    "print(aa,cc)   \n"
   ]
  },
  {
   "cell_type": "markdown",
   "id": "14bce0eb",
   "metadata": {},
   "source": [
    "# Matrizes \n",
    "Python não tem um conceito definido de matriz , para esse efeito utilizados uma lista com listas"
   ]
  },
  {
   "cell_type": "code",
   "execution_count": null,
   "id": "90a90e60",
   "metadata": {},
   "outputs": [
    {
     "name": "stdout",
     "output_type": "stream",
     "text": [
      "1 2 3 \n",
      "4 5 6 \n",
      "7 8 9 \n",
      "5\n",
      "1\n",
      "4\n",
      "7\n"
     ]
    }
   ],
   "source": [
    "#criar uma matriz\n",
    "\n",
    "matriz = [[1,2,3],[4,5,6],[7,8,9]]   \n",
    "#Desta forma a variavel matrix têm 3 elementos que correspondem as linhas \n",
    "#de uma matrix e cada elemento tem 3 elementos que corresponde as colunas\n",
    "\n",
    "#imprimir a matriz toda\n",
    "for linha in matriz:   \n",
    "    for valor in linha:   \n",
    "        print(valor, end= \" \")   \n",
    "    print()   \n",
    "    \n",
    "#Para aceder a uma linha da matrix: matriz[1]\n",
    "#Para aceder a um valor da matrix: matriz[1] [1]\n",
    "\n",
    "\n",
    "print(matriz[1][1])   \n",
    "\n",
    "for linha in matriz:   \n",
    "    print(linha[0])   \n",
    "\n"
   ]
  },
  {
   "cell_type": "markdown",
   "id": "abe83dae",
   "metadata": {},
   "source": [
    "Remover o ultimo elemento do index 1\n",
    "\n",
    "remover o elemento 0 0"
   ]
  },
  {
   "cell_type": "code",
   "execution_count": null,
   "id": "6d84b7e8",
   "metadata": {},
   "outputs": [
    {
     "name": "stdout",
     "output_type": "stream",
     "text": [
      "[[1, 2, 3], [4, 5, 6]]\n",
      "[[1, 2, 3], [4, 6]]\n",
      "[[2, 3], [4, 6]]\n"
     ]
    }
   ],
   "source": [
    "matriz = [[1,2,3],[4,5,6],[7,8,9]]   \n",
    "matriz.pop()\n",
    "print(matriz)   \n",
    "\n",
    "del matriz[1][1]\n",
    "\n",
    "print(matriz)   \n",
    "\n",
    "matriz[0].pop(0) #equivalente -> del matriz[0][0]\n",
    "\n",
    "print(matriz)   "
   ]
  },
  {
   "cell_type": "markdown",
   "id": "d868f377",
   "metadata": {},
   "source": [
    "# Tuplas\n",
    "\n",
    "Definição:  imutáveis. Mantem a ordem de insercao \n",
    "\n",
    "sintax ()"
   ]
  },
  {
   "cell_type": "code",
   "execution_count": null,
   "id": "c11d3221",
   "metadata": {},
   "outputs": [
    {
     "name": "stdout",
     "output_type": "stream",
     "text": [
      "(33, 8, 77, 2, 3, 4)\n",
      "6\n",
      "[2, 3, 4, 8, 33, 77]\n",
      "(77, 33, 8, 4, 3, 2)\n",
      "(4, 3, 2, 77, 8, 33)\n"
     ]
    }
   ],
   "source": [
    "#criar tupla\n",
    "nomeTupla = (33,8,77)   \n",
    "\n",
    "tupla2 = (2,3,4)   \n",
    "\n",
    "tupla3 = nomeTupla + tupla2   \n",
    "\n",
    "print(tupla3)   \n",
    "\n",
    "#contar quantos elementos tem\n",
    "print(len(tupla3))   \n",
    "\n",
    "lista = sorted(tupla3)   \n",
    "\n",
    "print(lista)   \n",
    "\n",
    "#a função tuple converte uma lista em tupla\n",
    "\n",
    "#ordenação\n",
    "print(tuple(sorted(tupla3, reverse=True)))   ##atenção o sorted cria uma lista \n",
    "print(tuple(reversed(tupla3)))   \n",
    "\n"
   ]
  },
  {
   "cell_type": "markdown",
   "id": "df7dcff0",
   "metadata": {},
   "source": [
    "O Python permite extrair os elementos da tupla diretamente para variáveis:"
   ]
  },
  {
   "cell_type": "code",
   "execution_count": null,
   "id": "fcaa1d05",
   "metadata": {},
   "outputs": [
    {
     "name": "stdout",
     "output_type": "stream",
     "text": [
      "A: 10, B: 20, C: 30\n",
      "X : 10 , Y: 30\n"
     ]
    }
   ],
   "source": [
    "tupla = (10,20,30)   \n",
    "\n",
    "a,b,c = tupla   \n",
    "# underscore _ para ignorar elementos:\n",
    "x , _ , y = tupla   \n",
    "\n",
    "print(f\"A: {a}, B: {b}, C: {c}\")   \n",
    "\n",
    "print(f\"X : {x} , Y: {y}\" )   "
   ]
  },
  {
   "cell_type": "markdown",
   "id": "910fba01",
   "metadata": {},
   "source": [
    "forma de mudar um tuple\n",
    "Como os dados são imutáveis significa que nao podem ser alterados?\n",
    "A resposta é sim, mas existe uma forma de “contornar as regras”\n",
    "Tuple\t->\tLista\t->\tTuple\n"
   ]
  },
  {
   "cell_type": "code",
   "execution_count": null,
   "id": "f3d26fa8",
   "metadata": {},
   "outputs": [
    {
     "name": "stdout",
     "output_type": "stream",
     "text": [
      "('Caixa azulo', 'caixa verde', 'caixa amarela', 'Caixa preta')\n"
     ]
    }
   ],
   "source": [
    "caixas = (\"Caixa azulo\", \"caixa verde\", \"caixa amarela\")   \n",
    "\n",
    "Lista = list(caixas)   \n",
    "\n",
    "Lista.append(\"Caixa preta\")\n",
    "\n",
    "caixa = tuple(Lista)   \n",
    "\n",
    "print(caixa)   "
   ]
  },
  {
   "cell_type": "code",
   "execution_count": null,
   "id": "1ad619cd",
   "metadata": {},
   "outputs": [],
   "source": [
    "#isto é um tuple\n",
    "aluno = (\"Antonio\",) #contem a virgula\n",
    "\n",
    "# isto não é um tuple\n",
    "\n",
    "aluno = (\"Antonio\") "
   ]
  },
  {
   "cell_type": "markdown",
   "id": "489a579a",
   "metadata": {},
   "source": [
    "•\tPor que usar tuplas se não podemos modificar?\n",
    "    o\tPara garantir que os dados permaneçam consistentes.\n",
    "•\tPosso ordenar uma tupla?\n",
    "    o\tNão diretamente, mas podes criar uma nova tupla ordenada com sorted().\n"
   ]
  },
  {
   "cell_type": "markdown",
   "id": "d8c627f5",
   "metadata": {},
   "source": [
    "# Conjuntos (Sets)\n",
    "Definição: Coleções não ordenadas de elementos únicos e mutáveis. \n",
    "Nao suporta index\n",
    "\n",
    "Sintaxe: {}\n"
   ]
  },
  {
   "cell_type": "code",
   "execution_count": null,
   "id": "53fdeefb",
   "metadata": {},
   "outputs": [
    {
     "name": "stdout",
     "output_type": "stream",
     "text": [
      "{3, 4, 5, 6}\n",
      "{2, 4, 5, 6, 7, 9}\n",
      "{6}\n",
      "{2, 3, 4, 5, 6, 7, 8, 9}\n",
      "{8, 2, 4}\n",
      "{9, 3, 5, 7}\n"
     ]
    }
   ],
   "source": [
    "#Tentativa de criar um set com numeros repetidos\n",
    "exemploDeSet = {3,4,5,6,3}   \n",
    "print(exemploDeSet)   \n",
    "L5 = [4,7,2,9,7,6,5]   \n",
    "\n",
    "set2 = set(L5)   \n",
    "\n",
    "print(set2)   \n",
    "\n",
    "pares = {2,4,6,8}   \n",
    "impares = {5,7,9, 6, 3}   \n",
    "\n",
    "print(pares & impares)   \n",
    "print(pares | impares)   \n",
    "print(pares - impares)   \n",
    "print(impares - pares)   \n",
    "\n"
   ]
  },
  {
   "cell_type": "markdown",
   "id": "fcb173c4",
   "metadata": {},
   "source": [
    "### Adicionar e remover"
   ]
  },
  {
   "cell_type": "code",
   "execution_count": null,
   "id": "9782910f",
   "metadata": {},
   "outputs": [
    {
     "name": "stdout",
     "output_type": "stream",
     "text": [
      "{'a', 'd', 'c', 'b'}\n",
      "{'d', 'b'}\n"
     ]
    }
   ],
   "source": [
    "letras = {\"a\",\"b\",\"c\"}   \n",
    "\n",
    "letras.add(\"d\")\n",
    "\n",
    "print(letras)   \n",
    "\n",
    "letras.remove(\"a\")\n",
    "letras.discard(\"x\") #não dá erro se não existir\n",
    "\n",
    "print(letras)   "
   ]
  },
  {
   "cell_type": "markdown",
   "id": "b001e15f",
   "metadata": {},
   "source": [
    "•\tQual a diferença entre remove e discard?\n",
    "    o\tremove gera erro se o elemento não existir, discard não.\n",
    "•\tSets têm ordem?\n",
    "    o\tNão. A ordem é arbitrária.\n"
   ]
  },
  {
   "cell_type": "markdown",
   "id": "61deefd8",
   "metadata": {},
   "source": [
    "# Dicionarios\n",
    "Definição: Estrutura chave-valor, mutável, não ordenada.\n",
    "\n",
    "Sintaxe: {chave: valor}\n"
   ]
  },
  {
   "cell_type": "code",
   "execution_count": null,
   "id": "137ea45c",
   "metadata": {},
   "outputs": [
    {
     "name": "stdout",
     "output_type": "stream",
     "text": [
      "33\n",
      "Ruben\n",
      "34\n",
      "KEY: Numero, valor: 123123\n",
      "KEY: Nome, valor: Ruben\n",
      "KEY: Idade, valor: 34\n",
      "valor: 123123\n",
      "valor: Ruben\n",
      "valor: 34\n",
      "So valores\n",
      "valor: 123123\n",
      "valor: Ruben\n",
      "valor: 34\n",
      "So Keys\n",
      "valor: Numero\n",
      "valor: Nome\n",
      "valor: Idade\n"
     ]
    }
   ],
   "source": [
    "#criação de dicionario\n",
    "ExemploDicionario = {\"Numero\": 123123 , \"Nome\":\"Ruben\", \"Idade\":33}   \n",
    "\n",
    "#acesso [key]\n",
    "print(ExemploDicionario[\"Idade\"])   \n",
    "print(ExemploDicionario[\"Nome\"])   \n",
    "\n",
    "#modificação\n",
    "ExemploDicionario[\"Idade\"] = 34   \n",
    "\n",
    "print(ExemploDicionario[\"Idade\"])   \n",
    "\n",
    "#imprimir tudo\n",
    "for key, valor in ExemploDicionario.items():   \n",
    "    print(f\"KEY: {key}, valor: {valor}\")   \n",
    "    \n",
    "#aceder apenas ao valor\n",
    "for  _ , valor in ExemploDicionario.items():   \n",
    "    print(f\"valor: {valor}\")   \n",
    "    \n",
    "#outra maneira\n",
    "print(\"So valores\")   \n",
    "for  valor in ExemploDicionario.values():   \n",
    "    print(f\"valor: {valor}\")   \n",
    "    \n",
    "#aceder so às keys\n",
    "print(\"So Keys\")   \n",
    "for  valor in ExemploDicionario.keys():   \n",
    "    print(f\"valor: {valor}\")   \n"
   ]
  },
  {
   "cell_type": "code",
   "execution_count": 1,
   "id": "2ca8ac7d",
   "metadata": {},
   "outputs": [
    {
     "name": "stdout",
     "output_type": "stream",
     "text": [
      "{'Nome': 'Ruben', 'Idade': 39}\n",
      "{'Nome': 'Debora', 'Idade': 25}\n",
      "Debora\n",
      "Pessoa1   {'Nome': 'Ruben', 'Idade': 39}\n",
      "Pessoa2   {'Nome': 'Debora', 'Idade': 25}\n",
      "Pessoa3   {'Nome': 'Antonio', 'Idade': 90}\n",
      "Pessoa1   {'Nome': 'Ruben', 'Idade': 39}\n",
      "Pessoa2   {'Nome': 'Debora', 'Idade': 25}\n",
      "Pessoa3   {'Nome': 'Antonio', 'Idade': 90}\n",
      "Pessoa4   {'Nome': 'João', 'Idade': 34}\n",
      "Ruben    39\n",
      "Debora    25\n",
      "Antonio    90\n",
      "João    34\n"
     ]
    }
   ],
   "source": [
    "# Criar dicionario de dicionario\n",
    "Pessoas = {   \n",
    "    \"Pessoa1\" : {\"Nome\": \"Ruben\", \"Idade\": 39},\n",
    "    \"Pessoa2\" : {\"Nome\" : \"Debora\", \"Idade\": 25},\n",
    "    \"Pessoa3\" : {\"Nome\": \"Antonio\" , \"Idade\": 90 }\n",
    "    \n",
    "}\n",
    "\n",
    "print(Pessoas[\"Pessoa1\"])   \n",
    "print(Pessoas[\"Pessoa2\"])   \n",
    "print(Pessoas[\"Pessoa2\"][\"Nome\"])   \n",
    "\n",
    "for key1 , valor1 in Pessoas.items():   \n",
    "    print(key1, \" \" , valor1)   \n",
    "    \n",
    "#adicionar ou modificar - O dicionario nao permite keys iguais\n",
    "Pessoas[\"Pessoa4\"] = {\"Nome\": \"Rui\", \"Idade\":34}   \n",
    "Pessoas[\"Pessoa4\"] = {\"Nome\": \"João\", \"Idade\":34}   #modifica a key que já existe\n",
    "\n",
    "\n",
    "for key1, ValorDaKey in Pessoas.items():   \n",
    "    print(key1, \" \" , ValorDaKey)   \n",
    "    \n",
    "#imprimir só o nome e a idade\n",
    "for values_Dicionario in Pessoas.values():   \n",
    "    print(values_Dicionario[\"Nome\"], \"  \" , values_Dicionario[\"Idade\"])   \n",
    "    \n",
    "\n",
    "    \n"
   ]
  },
  {
   "cell_type": "markdown",
   "id": "3badea33",
   "metadata": {},
   "source": [
    "### Eliminar \n",
    "del \n",
    "pop"
   ]
  },
  {
   "cell_type": "code",
   "execution_count": null,
   "id": "9ee87279",
   "metadata": {},
   "outputs": [
    {
     "name": "stdout",
     "output_type": "stream",
     "text": [
      "Pessoa2   {'Nome': 'Debora', 'Idade': 25}\n",
      "Pessoa3   {'Nome': 'Antonio', 'Idade': 90}\n",
      "Pessoa2   {'Nome': 'Debora', 'Idade': 25}\n",
      "Pessoa3   {'Nome': 'Antonio', 'Idade': 90}\n",
      "Pessoa4   {'Nome': 'João', 'Idade': 34}\n"
     ]
    }
   ],
   "source": [
    "#Eliminar elementos\n",
    "\n",
    "# Criar dicionario de dicionario\n",
    "Pessoas = {   \n",
    "    \"Pessoa1\" : {\"Nome\": \"Ruben\", \"Idade\": 39},\n",
    "    \"Pessoa2\" : {\"Nome\" : \"Debora\", \"Idade\": 25},\n",
    "    \"Pessoa3\" : {\"Nome\": \"Antonio\" , \"Idade\": 90 }\n",
    "}\n",
    "    \n",
    "Pessoa_Remover = input(\"Inserir a pessoa a eliminar \")   \n",
    "#uma forma de remover DEL\n",
    "if(Pessoa_Remover in Pessoas):\n",
    "    del Pessoas[Pessoa_Remover.capitalize()]\n",
    "\n",
    "for key1, key2 in Pessoas.items():   \n",
    "    print(key1, \" \" , key2)   \n",
    "    \n",
    "Pessoas[\"Pessoa4\"] = {\"Nome\": \"João\", \"Idade\":34}      \n",
    "\n",
    "#outra forma de remover POP\n",
    "Pessoas.pop(Pessoa_Remover, None)\n",
    "\n",
    "for key1, value in Pessoas.items():   \n",
    "    print(key1, \" \" , value)   \n",
    "    "
   ]
  },
  {
   "cell_type": "markdown",
   "id": "3b6bc0a7",
   "metadata": {},
   "source": [
    "### Pesquisa"
   ]
  },
  {
   "cell_type": "code",
   "execution_count": null,
   "id": "d891cb7c",
   "metadata": {},
   "outputs": [
    {
     "name": "stdout",
     "output_type": "stream",
     "text": [
      "Encontrou Antonio\n"
     ]
    }
   ],
   "source": [
    "Pessoas = {   \n",
    "    \"Pessoa1\" : {\"Nome\": \"Ruben\", \"Idade\": 39},\n",
    "    \"Pessoa2\" : {\"Nome\" : \"Debora\", \"Idade\": 25},\n",
    "    \"Pessoa3\" : {\"Nome\": \"Antonio\" , \"Idade\": 90 }\n",
    "\n",
    "}\n",
    "\n",
    "nome_procurar = input(\"Inserir nome a procurar\")   \n",
    "\n",
    "seEncontrou = False   \n",
    "for key, valor_dict in Pessoas.items():   \n",
    "    if valor_dict[\"Nome\"] == nome_procurar:  \n",
    "        seEncontrou = True   \n",
    "\n",
    "if seEncontrou:  \n",
    "    print(f\"Encontrou {nome_procurar}\")   \n",
    "else:    \n",
    "    print(\"Não encontrou\")   \n",
    "  \n",
    "\n",
    "\n",
    "        "
   ]
  },
  {
   "cell_type": "markdown",
   "id": "c8848495",
   "metadata": {},
   "source": [
    "### Alterar elemento ja existente com pesquisa"
   ]
  },
  {
   "cell_type": "code",
   "execution_count": 2,
   "id": "28080a06",
   "metadata": {},
   "outputs": [
    {
     "ename": "KeyboardInterrupt",
     "evalue": "Interrupted by user",
     "output_type": "error",
     "traceback": [
      "\u001b[0;31m---------------------------------------------------------------------------\u001b[0m",
      "\u001b[0;31mKeyboardInterrupt\u001b[0m                         Traceback (most recent call last)",
      "Cell \u001b[0;32mIn[2], line 8\u001b[0m\n\u001b[1;32m      1\u001b[0m Pessoas \u001b[38;5;241m=\u001b[39m {   \n\u001b[1;32m      2\u001b[0m     \u001b[38;5;124m\"\u001b[39m\u001b[38;5;124mPessoa1\u001b[39m\u001b[38;5;124m\"\u001b[39m : {\u001b[38;5;124m\"\u001b[39m\u001b[38;5;124mNome\u001b[39m\u001b[38;5;124m\"\u001b[39m: \u001b[38;5;124m\"\u001b[39m\u001b[38;5;124mRuben\u001b[39m\u001b[38;5;124m\"\u001b[39m, \u001b[38;5;124m\"\u001b[39m\u001b[38;5;124mIdade\u001b[39m\u001b[38;5;124m\"\u001b[39m: \u001b[38;5;241m39\u001b[39m},\n\u001b[1;32m      3\u001b[0m     \u001b[38;5;124m\"\u001b[39m\u001b[38;5;124mPessoa2\u001b[39m\u001b[38;5;124m\"\u001b[39m : {\u001b[38;5;124m\"\u001b[39m\u001b[38;5;124mNome\u001b[39m\u001b[38;5;124m\"\u001b[39m : \u001b[38;5;124m\"\u001b[39m\u001b[38;5;124mDebora\u001b[39m\u001b[38;5;124m\"\u001b[39m, \u001b[38;5;124m\"\u001b[39m\u001b[38;5;124mIdade\u001b[39m\u001b[38;5;124m\"\u001b[39m: \u001b[38;5;241m25\u001b[39m},\n\u001b[1;32m      4\u001b[0m     \u001b[38;5;124m\"\u001b[39m\u001b[38;5;124mPessoa3\u001b[39m\u001b[38;5;124m\"\u001b[39m : {\u001b[38;5;124m\"\u001b[39m\u001b[38;5;124mNome\u001b[39m\u001b[38;5;124m\"\u001b[39m: \u001b[38;5;124m\"\u001b[39m\u001b[38;5;124mAntonio\u001b[39m\u001b[38;5;124m\"\u001b[39m , \u001b[38;5;124m\"\u001b[39m\u001b[38;5;124mIdade\u001b[39m\u001b[38;5;124m\"\u001b[39m: \u001b[38;5;241m90\u001b[39m }\n\u001b[1;32m      5\u001b[0m    \n\u001b[1;32m      6\u001b[0m }\n\u001b[0;32m----> 8\u001b[0m nome_procurar \u001b[38;5;241m=\u001b[39m \u001b[38;5;28;43minput\u001b[39;49m\u001b[43m(\u001b[49m\u001b[38;5;124;43m\"\u001b[39;49m\u001b[38;5;124;43mInserir nome a procurar\u001b[39;49m\u001b[38;5;124;43m\"\u001b[39;49m\u001b[43m)\u001b[49m   \n\u001b[1;32m      9\u001b[0m novaIdade \u001b[38;5;241m=\u001b[39m \u001b[38;5;28minput\u001b[39m(\u001b[38;5;124m\"\u001b[39m\u001b[38;5;124minserir nova idade\u001b[39m\u001b[38;5;124m\"\u001b[39m)   \n\u001b[1;32m     12\u001b[0m \u001b[38;5;28;01mfor\u001b[39;00m key, valor_dict \u001b[38;5;129;01min\u001b[39;00m Pessoas\u001b[38;5;241m.\u001b[39mitems():   \n",
      "File \u001b[0;32m~/Library/Python/3.9/lib/python/site-packages/ipykernel/kernelbase.py:1282\u001b[0m, in \u001b[0;36mKernel.raw_input\u001b[0;34m(self, prompt)\u001b[0m\n\u001b[1;32m   1280\u001b[0m     msg \u001b[38;5;241m=\u001b[39m \u001b[38;5;124m\"\u001b[39m\u001b[38;5;124mraw_input was called, but this frontend does not support input requests.\u001b[39m\u001b[38;5;124m\"\u001b[39m\n\u001b[1;32m   1281\u001b[0m     \u001b[38;5;28;01mraise\u001b[39;00m StdinNotImplementedError(msg)\n\u001b[0;32m-> 1282\u001b[0m \u001b[38;5;28;01mreturn\u001b[39;00m \u001b[38;5;28;43mself\u001b[39;49m\u001b[38;5;241;43m.\u001b[39;49m\u001b[43m_input_request\u001b[49m\u001b[43m(\u001b[49m\n\u001b[1;32m   1283\u001b[0m \u001b[43m    \u001b[49m\u001b[38;5;28;43mstr\u001b[39;49m\u001b[43m(\u001b[49m\u001b[43mprompt\u001b[49m\u001b[43m)\u001b[49m\u001b[43m,\u001b[49m\n\u001b[1;32m   1284\u001b[0m \u001b[43m    \u001b[49m\u001b[38;5;28;43mself\u001b[39;49m\u001b[38;5;241;43m.\u001b[39;49m\u001b[43m_parent_ident\u001b[49m\u001b[43m[\u001b[49m\u001b[38;5;124;43m\"\u001b[39;49m\u001b[38;5;124;43mshell\u001b[39;49m\u001b[38;5;124;43m\"\u001b[39;49m\u001b[43m]\u001b[49m\u001b[43m,\u001b[49m\n\u001b[1;32m   1285\u001b[0m \u001b[43m    \u001b[49m\u001b[38;5;28;43mself\u001b[39;49m\u001b[38;5;241;43m.\u001b[39;49m\u001b[43mget_parent\u001b[49m\u001b[43m(\u001b[49m\u001b[38;5;124;43m\"\u001b[39;49m\u001b[38;5;124;43mshell\u001b[39;49m\u001b[38;5;124;43m\"\u001b[39;49m\u001b[43m)\u001b[49m\u001b[43m,\u001b[49m\n\u001b[1;32m   1286\u001b[0m \u001b[43m    \u001b[49m\u001b[43mpassword\u001b[49m\u001b[38;5;241;43m=\u001b[39;49m\u001b[38;5;28;43;01mFalse\u001b[39;49;00m\u001b[43m,\u001b[49m\n\u001b[1;32m   1287\u001b[0m \u001b[43m\u001b[49m\u001b[43m)\u001b[49m\n",
      "File \u001b[0;32m~/Library/Python/3.9/lib/python/site-packages/ipykernel/kernelbase.py:1325\u001b[0m, in \u001b[0;36mKernel._input_request\u001b[0;34m(self, prompt, ident, parent, password)\u001b[0m\n\u001b[1;32m   1322\u001b[0m \u001b[38;5;28;01mexcept\u001b[39;00m \u001b[38;5;167;01mKeyboardInterrupt\u001b[39;00m:\n\u001b[1;32m   1323\u001b[0m     \u001b[38;5;66;03m# re-raise KeyboardInterrupt, to truncate traceback\u001b[39;00m\n\u001b[1;32m   1324\u001b[0m     msg \u001b[38;5;241m=\u001b[39m \u001b[38;5;124m\"\u001b[39m\u001b[38;5;124mInterrupted by user\u001b[39m\u001b[38;5;124m\"\u001b[39m\n\u001b[0;32m-> 1325\u001b[0m     \u001b[38;5;28;01mraise\u001b[39;00m \u001b[38;5;167;01mKeyboardInterrupt\u001b[39;00m(msg) \u001b[38;5;28;01mfrom\u001b[39;00m\u001b[38;5;250m \u001b[39m\u001b[38;5;28;01mNone\u001b[39;00m\n\u001b[1;32m   1326\u001b[0m \u001b[38;5;28;01mexcept\u001b[39;00m \u001b[38;5;167;01mException\u001b[39;00m:\n\u001b[1;32m   1327\u001b[0m     \u001b[38;5;28mself\u001b[39m\u001b[38;5;241m.\u001b[39mlog\u001b[38;5;241m.\u001b[39mwarning(\u001b[38;5;124m\"\u001b[39m\u001b[38;5;124mInvalid Message:\u001b[39m\u001b[38;5;124m\"\u001b[39m, exc_info\u001b[38;5;241m=\u001b[39m\u001b[38;5;28;01mTrue\u001b[39;00m)\n",
      "\u001b[0;31mKeyboardInterrupt\u001b[0m: Interrupted by user"
     ]
    }
   ],
   "source": [
    "Pessoas = {   \n",
    "    \"Pessoa1\" : {\"Nome\": \"Ruben\", \"Idade\": 39},\n",
    "    \"Pessoa2\" : {\"Nome\" : \"Debora\", \"Idade\": 25},\n",
    "    \"Pessoa3\" : {\"Nome\": \"Antonio\" , \"Idade\": 90 }\n",
    "   \n",
    "}\n",
    "\n",
    "nome_procurar = input(\"Inserir nome a procurar\")   \n",
    "novaIdade = input(\"inserir nova idade\")   \n",
    "\n",
    "\n",
    "for key, valor_dict in Pessoas.items():   \n",
    "    if valor_dict[\"Nome\"] == nome_procurar:  \n",
    "        valor_dict[\"Idade\"] = novaIdade   \n",
    "\n",
    "for key1, value in Pessoas.items():   \n",
    "    print(key1, \" \" , value)   \n"
   ]
  },
  {
   "cell_type": "markdown",
   "id": "a060b148",
   "metadata": {},
   "source": []
  }
 ],
 "metadata": {
  "kernelspec": {
   "display_name": "Python 3",
   "language": "python",
   "name": "python3"
  },
  "language_info": {
   "codemirror_mode": {
    "name": "ipython",
    "version": 3
   },
   "file_extension": ".py",
   "mimetype": "text/x-python",
   "name": "python",
   "nbconvert_exporter": "python",
   "pygments_lexer": "ipython3",
   "version": "3.9.6"
  }
 },
 "nbformat": 4,
 "nbformat_minor": 5
}
