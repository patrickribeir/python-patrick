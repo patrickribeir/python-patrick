{
 "cells": [
  {
   "cell_type": "code",
   "execution_count": 11,
   "id": "54a353a2",
   "metadata": {},
   "outputs": [
    {
     "name": "stdout",
     "output_type": "stream",
     "text": [
      "bloco principal\n",
      "entrou na funcao de somar\n",
      "entrou na funcao de somar\n",
      "entrou na funcao de somar\n",
      "16\n",
      "17\n",
      "29\n"
     ]
    }
   ],
   "source": [
    "def dizerOlá():\n",
    "    print(\"Olá, tudo bem ? \")\n",
    "    return \n",
    "\n",
    "def somarDoisNumeros(a,b):\n",
    "    print(a+b)\n",
    "    \n",
    "def somarDoisNumerosCReturn(a,b):\n",
    "    print(\"entrou na funcao de somar\")\n",
    "    resultado = a + b\n",
    "    return resultado\n",
    "   \n",
    "\n",
    "\n",
    "x = 10\n",
    "y = 7\n",
    "print(\"bloco principal\")\n",
    "result = somarDoisNumerosCReturn(6,10)\n",
    "result2 = somarDoisNumerosCReturn(x,y)\n",
    "a = 9\n",
    "b = 20\n",
    "result3 = somarDoisNumerosCReturn(a,b)\n",
    "\n",
    "print(result )\n",
    "print(result2)\n",
    "print(result3)"
   ]
  },
  {
   "cell_type": "code",
   "execution_count": null,
   "id": "5d712775",
   "metadata": {},
   "outputs": [
    {
     "name": "stdout",
     "output_type": "stream",
     "text": [
      "Ola \n",
      "nome:  Ruben\n"
     ]
    }
   ],
   "source": [
    "\n",
    "    \n",
    "import "
   ]
  },
  {
   "cell_type": "code",
   "execution_count": 29,
   "id": "dc2f38da",
   "metadata": {},
   "outputs": [
    {
     "name": "stdout",
     "output_type": "stream",
     "text": [
      "Ola \n",
      "nome:  Rui\n",
      "5.0\n",
      "3.141592653589793\n",
      "2025-06-11 10:32:29.007688\n",
      "2025\n"
     ]
    }
   ],
   "source": [
    "import moduloExemplo\n",
    "import math \n",
    "import datetime\n",
    "\n",
    "moduloExemplo.imprimePessoa(\"Rui\")\n",
    "\n",
    "print(math.sqrt(25))\n",
    "print(math.pi)\n",
    "\n",
    "print(datetime.datetime.now())\n",
    "\n",
    "print(datetime.datetime.now().year)"
   ]
  },
  {
   "cell_type": "code",
   "execution_count": 48,
   "id": "470b7920",
   "metadata": {},
   "outputs": [
    {
     "name": "stdout",
     "output_type": "stream",
     "text": [
      "consegui fazer a conversao\n",
      "executa sempre 41.0\n"
     ]
    }
   ],
   "source": [
    "num1 = input(\"Inserir um numero\")\n",
    "num2 = input(\"inserir outro num\")\n",
    "resultado = 0\n",
    "\n",
    "try:\n",
    "    x = int(num1)\n",
    "    y = int(num2)\n",
    "    resultado = x/ y\n",
    "    \n",
    "except ValueError:\n",
    "    print(\"valor nao aceite\")\n",
    "except: \n",
    "    print(\"Execao generica\")\n",
    "else:\n",
    "    print(\"consegui fazer a conversao\")\n",
    "finally:\n",
    "    print(\"executa sempre\", resultado)"
   ]
  },
  {
   "cell_type": "code",
   "execution_count": null,
   "id": "e8af2a8e",
   "metadata": {},
   "outputs": [
    {
     "name": "stdout",
     "output_type": "stream",
     "text": [
      "invalido\n",
      "invalido\n",
      "invalido\n",
      "1 - somar\n",
      "2 - multiplicar\n",
      "0 - sair\n"
     ]
    }
   ],
   "source": [
    "def somar(a,b):\n",
    "    print(a+b)\n",
    "def multiplicar(a,b):\n",
    "    print(a*b) \n",
    "def menu():\n",
    "    while True:        \n",
    "        try:\n",
    "            a = int(input(\"inserir um numero\"))\n",
    "            b = int(input(\"inserir outro numero\"))\n",
    "        except:\n",
    "            print(\"invalido\")\n",
    "        else:\n",
    "            print(\"1 - somar\")\n",
    "            print(\"2 - multiplicar\")\n",
    "            print(\"0 - sair\")\n",
    "            op = input(\"Escolher opçao\")\n",
    "            if op == '1':\n",
    "                somar(a, b)\n",
    "            elif op == '2':\n",
    "                multiplicar(a, b)\n",
    "            elif op == '0':\n",
    "                break\n",
    "            else:\n",
    "                print(\"Opcao invalida\")\n",
    "    \n",
    "menu()"
   ]
  },
  {
   "cell_type": "markdown",
   "id": "b86c9d3c",
   "metadata": {},
   "source": []
  }
 ],
 "metadata": {
  "kernelspec": {
   "display_name": "Python 3",
   "language": "python",
   "name": "python3"
  },
  "language_info": {
   "codemirror_mode": {
    "name": "ipython",
    "version": 3
   },
   "file_extension": ".py",
   "mimetype": "text/x-python",
   "name": "python",
   "nbconvert_exporter": "python",
   "pygments_lexer": "ipython3",
   "version": "3.9.6"
  }
 },
 "nbformat": 4,
 "nbformat_minor": 5
}
